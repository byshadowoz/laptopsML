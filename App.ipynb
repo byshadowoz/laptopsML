{
 "cells": [
  {
   "cell_type": "code",
   "execution_count": 78,
   "metadata": {},
   "outputs": [
    {
     "name": "stdout",
     "output_type": "stream",
     "text": [
      "Requirement already satisfied: importnb in /home/byshadowoz/anaconda3/lib/python3.11/site-packages (2023.11.1)\n",
      "Note: you may need to restart the kernel to use updated packages.\n"
     ]
    }
   ],
   "source": [
    "%pip install importnb"
   ]
  },
  {
   "cell_type": "code",
   "execution_count": 79,
   "metadata": {},
   "outputs": [],
   "source": [
    "from flask import Flask, request, jsonify\n",
    "import pandas as pd\n",
    "#install nbimporter\n",
    "from importnb import Notebook\n",
    "with Notebook(): \n",
    "    import Model\n",
    "\n"
   ]
  },
  {
   "cell_type": "code",
   "execution_count": 80,
   "metadata": {},
   "outputs": [],
   "source": [
    "# example\n",
    "\n",
    "import json\n",
    "\n",
    "\n",
    "datos_JSON = \"\"\"\n",
    "{\n",
    "    \"brand\": \"HP\",\n",
    "    \"processor\":\"Core i3\" ,\n",
    "    \"operating_system\":\"Windows 10 Pro\",\n",
    "    \"storage\":\"1 TB\",\n",
    "    \"ram\":\"16 GB\",\n",
    "    \"screen_size\":\"40.00 cm\",\n",
    "    \"touch_screen\":\"No\"\n",
    "}\n",
    "\"\"\"\n",
    "\n",
    "datos_diccionario = json.loads(datos_JSON)"
   ]
  },
  {
   "cell_type": "code",
   "execution_count": 82,
   "metadata": {},
   "outputs": [
    {
     "data": {
      "text/html": [
       "<div>\n",
       "<style scoped>\n",
       "    .dataframe tbody tr th:only-of-type {\n",
       "        vertical-align: middle;\n",
       "    }\n",
       "\n",
       "    .dataframe tbody tr th {\n",
       "        vertical-align: top;\n",
       "    }\n",
       "\n",
       "    .dataframe thead th {\n",
       "        text-align: right;\n",
       "    }\n",
       "</style>\n",
       "<table border=\"1\" class=\"dataframe\">\n",
       "  <thead>\n",
       "    <tr style=\"text-align: right;\">\n",
       "      <th></th>\n",
       "      <th>&lt;30cm</th>\n",
       "      <th>&lt;35cm</th>\n",
       "      <th>&lt;40cm</th>\n",
       "      <th>&gt;40cm</th>\n",
       "      <th>processor_Athlon Dual Core</th>\n",
       "      <th>processor_Celeron Dual Core</th>\n",
       "      <th>processor_Celeron Quad Core</th>\n",
       "      <th>processor_Core i3</th>\n",
       "      <th>processor_Core i5</th>\n",
       "      <th>processor_Core i7</th>\n",
       "      <th>...</th>\n",
       "      <th>operating_system_macOS Ventura</th>\n",
       "      <th>ram_12 GB</th>\n",
       "      <th>ram_16 GB</th>\n",
       "      <th>ram_18 GB</th>\n",
       "      <th>ram_32 GB</th>\n",
       "      <th>ram_4 GB</th>\n",
       "      <th>ram_64 GB</th>\n",
       "      <th>ram_8 GB</th>\n",
       "      <th>touch_screen_No</th>\n",
       "      <th>touch_screen_Yes</th>\n",
       "    </tr>\n",
       "  </thead>\n",
       "  <tbody>\n",
       "  </tbody>\n",
       "</table>\n",
       "<p>0 rows × 84 columns</p>\n",
       "</div>"
      ],
      "text/plain": [
       "Empty DataFrame\n",
       "Columns: [<30cm, <35cm, <40cm, >40cm, processor_Athlon Dual Core, processor_Celeron Dual Core, processor_Celeron Quad Core, processor_Core i3, processor_Core i5, processor_Core i7, processor_Core i9, processor_M1, processor_M1 Max, processor_M1 Pro, processor_M2, processor_M2 Max, processor_M3 Pro, processor_MediaTek Kompanio 1200, processor_MediaTek Kompanio 500, processor_MediaTek Kompanio 520, processor_MediaTek MT8788, processor_Pentium Silver, processor_Ryzen 3 Dual Core, processor_Ryzen 3 Quad Core, processor_Ryzen 5, processor_Ryzen 5 Dual Core, processor_Ryzen 5 Hexa Core, processor_Ryzen 5 Quad Core, processor_Ryzen 7 Octa Core, processor_Ryzen 7 Quad Core, processor_Ryzen 9 16 Core, processor_Ryzen 9 Octa Core, processor_Ryzen Z1 HexaCore, processor_Ryzen Z1 Octa Core, storage_1 TB, storage_128 GB, storage_2 TB, storage_256 GB, storage_3 TB, storage_4 TB, storage_512 GB, storage_6 TB, storage_64 GB, brand_ASUS, brand_Acer, brand_Apple, brand_CHUWI, brand_DELL, brand_GIGABYTE, brand_HP, brand_Infinix, brand_LG, brand_Lenovo, brand_MICROSOFT, brand_MSI, brand_Primebook, brand_SAMSUNG, brand_Ultimus, brand_WINGS, brand_ZEBRONICS, brand_realme, operating_system_Chrome, operating_system_DOS, operating_system_Mac OS Big Sur, operating_system_Mac OS Mojave, operating_system_Mac OS Monterey, operating_system_Prime OS, operating_system_Ubuntu, operating_system_Windows 10, operating_system_Windows 10 Home, operating_system_Windows 10 Pro, operating_system_Windows 11 Home, operating_system_Windows 11 Pro, operating_system_macOS Sonoma, operating_system_macOS Ventura, ram_12 GB, ram_16 GB, ram_18 GB, ram_32 GB, ram_4 GB, ram_64 GB, ram_8 GB, touch_screen_No, touch_screen_Yes]\n",
       "Index: []\n",
       "\n",
       "[0 rows x 84 columns]"
      ]
     },
     "execution_count": 82,
     "metadata": {},
     "output_type": "execute_result"
    }
   ],
   "source": [
    "df = pd.read_csv('base.csv')\n",
    "ejemplo_base = df.drop(df.index[0:837])\n",
    "ejemplo_base = ejemplo_base.drop(columns='Price')"
   ]
  },
  {
   "cell_type": "code",
   "execution_count": null,
   "metadata": {},
   "outputs": [
    {
     "ename": "AttributeError",
     "evalue": "module 'Model' has no attribute 'ejemplo_base'",
     "output_type": "error",
     "traceback": [
      "\u001b[0;31m---------------------------------------------------------------------------\u001b[0m",
      "\u001b[0;31mAttributeError\u001b[0m                            Traceback (most recent call last)",
      "Cell \u001b[0;32mIn[72], line 1\u001b[0m\n\u001b[0;32m----> 1\u001b[0m base \u001b[38;5;241m=\u001b[39m Model\u001b[38;5;241m.\u001b[39mejemplo_base\n",
      "\u001b[0;31mAttributeError\u001b[0m: module 'Model' has no attribute 'ejemplo_base'"
     ]
    }
   ],
   "source": []
  },
  {
   "cell_type": "code",
   "execution_count": null,
   "metadata": {},
   "outputs": [
    {
     "ename": "AttributeError",
     "evalue": "'DataFrame' object has no attribute 'base'",
     "output_type": "error",
     "traceback": [
      "\u001b[0;31m---------------------------------------------------------------------------\u001b[0m",
      "\u001b[0;31mAttributeError\u001b[0m                            Traceback (most recent call last)",
      "\u001b[0;32m/tmp/ipykernel_42076/2095576457.py\u001b[0m in \u001b[0;36m?\u001b[0;34m()\u001b[0m\n\u001b[0;32m----> 1\u001b[0;31m \u001b[0mModel\u001b[0m\u001b[0;34m.\u001b[0m\u001b[0mdf\u001b[0m\u001b[0;34m.\u001b[0m\u001b[0mbase\u001b[0m\u001b[0;34m\u001b[0m\u001b[0;34m\u001b[0m\u001b[0m\n\u001b[0m",
      "\u001b[0;32m~/anaconda3/lib/python3.11/site-packages/pandas/core/generic.py\u001b[0m in \u001b[0;36m?\u001b[0;34m(self, name)\u001b[0m\n\u001b[1;32m   5985\u001b[0m             \u001b[0;32mand\u001b[0m \u001b[0mname\u001b[0m \u001b[0;32mnot\u001b[0m \u001b[0;32min\u001b[0m \u001b[0mself\u001b[0m\u001b[0;34m.\u001b[0m\u001b[0m_accessors\u001b[0m\u001b[0;34m\u001b[0m\u001b[0;34m\u001b[0m\u001b[0m\n\u001b[1;32m   5986\u001b[0m             \u001b[0;32mand\u001b[0m \u001b[0mself\u001b[0m\u001b[0;34m.\u001b[0m\u001b[0m_info_axis\u001b[0m\u001b[0;34m.\u001b[0m\u001b[0m_can_hold_identifiers_and_holds_name\u001b[0m\u001b[0;34m(\u001b[0m\u001b[0mname\u001b[0m\u001b[0;34m)\u001b[0m\u001b[0;34m\u001b[0m\u001b[0;34m\u001b[0m\u001b[0m\n\u001b[1;32m   5987\u001b[0m         ):\n\u001b[1;32m   5988\u001b[0m             \u001b[0;32mreturn\u001b[0m \u001b[0mself\u001b[0m\u001b[0;34m[\u001b[0m\u001b[0mname\u001b[0m\u001b[0;34m]\u001b[0m\u001b[0;34m\u001b[0m\u001b[0;34m\u001b[0m\u001b[0m\n\u001b[0;32m-> 5989\u001b[0;31m         \u001b[0;32mreturn\u001b[0m \u001b[0mobject\u001b[0m\u001b[0;34m.\u001b[0m\u001b[0m__getattribute__\u001b[0m\u001b[0;34m(\u001b[0m\u001b[0mself\u001b[0m\u001b[0;34m,\u001b[0m \u001b[0mname\u001b[0m\u001b[0;34m)\u001b[0m\u001b[0;34m\u001b[0m\u001b[0;34m\u001b[0m\u001b[0m\n\u001b[0m",
      "\u001b[0;31mAttributeError\u001b[0m: 'DataFrame' object has no attribute 'base'"
     ]
    }
   ],
   "source": []
  },
  {
   "cell_type": "code",
   "execution_count": 83,
   "metadata": {},
   "outputs": [
    {
     "name": "stdout",
     "output_type": "stream",
     "text": [
      "Unexpected exception formatting exception. Falling back to standard exception\n"
     ]
    },
    {
     "name": "stderr",
     "output_type": "stream",
     "text": [
      "Traceback (most recent call last):\n",
      "  File \"/home/byshadowoz/anaconda3/lib/python3.11/site-packages/IPython/core/interactiveshell.py\", line 3526, in run_code\n",
      "    exec(code_obj, self.user_global_ns, self.user_ns)\n",
      "  File \"/tmp/ipykernel_42076/321703108.py\", line 6, in <module>\n",
      "    new_laptop = new_laptop.crear_df(datos_diccionario)\n",
      "                 ^^^^^^^^^^^^^^^^^^^^^^^^^^^^^^^^^^^^^^\n",
      "  File \"/home/byshadowoz/Laptops Data Proyect/laptopsML/Model.ipynb\", line 1523, in crear_df\n",
      "KeyError: 'RAM'\n",
      "\n",
      "During handling of the above exception, another exception occurred:\n",
      "\n",
      "Traceback (most recent call last):\n",
      "  File \"/home/byshadowoz/anaconda3/lib/python3.11/site-packages/IPython/core/interactiveshell.py\", line 2120, in showtraceback\n",
      "    stb = self.InteractiveTB.structured_traceback(\n",
      "          ^^^^^^^^^^^^^^^^^^^^^^^^^^^^^^^^^^^^^^^^\n",
      "  File \"/home/byshadowoz/anaconda3/lib/python3.11/site-packages/IPython/core/ultratb.py\", line 1435, in structured_traceback\n",
      "    return FormattedTB.structured_traceback(\n",
      "           ^^^^^^^^^^^^^^^^^^^^^^^^^^^^^^^^^\n",
      "  File \"/home/byshadowoz/anaconda3/lib/python3.11/site-packages/IPython/core/ultratb.py\", line 1326, in structured_traceback\n",
      "    return VerboseTB.structured_traceback(\n",
      "           ^^^^^^^^^^^^^^^^^^^^^^^^^^^^^^^\n",
      "  File \"/home/byshadowoz/anaconda3/lib/python3.11/site-packages/IPython/core/ultratb.py\", line 1173, in structured_traceback\n",
      "    formatted_exception = self.format_exception_as_a_whole(etype, evalue, etb, number_of_lines_of_context,\n",
      "                          ^^^^^^^^^^^^^^^^^^^^^^^^^^^^^^^^^^^^^^^^^^^^^^^^^^^^^^^^^^^^^^^^^^^^^^^^^^^^^^^^\n",
      "  File \"/home/byshadowoz/anaconda3/lib/python3.11/site-packages/IPython/core/ultratb.py\", line 1088, in format_exception_as_a_whole\n",
      "    frames.append(self.format_record(record))\n",
      "                  ^^^^^^^^^^^^^^^^^^^^^^^^^^\n",
      "  File \"/home/byshadowoz/anaconda3/lib/python3.11/site-packages/IPython/core/ultratb.py\", line 970, in format_record\n",
      "    frame_info.lines, Colors, self.has_colors, lvals\n",
      "    ^^^^^^^^^^^^^^^^\n",
      "  File \"/home/byshadowoz/anaconda3/lib/python3.11/site-packages/IPython/core/ultratb.py\", line 792, in lines\n",
      "    return self._sd.lines\n",
      "           ^^^^^^^^^^^^^^\n",
      "  File \"/home/byshadowoz/anaconda3/lib/python3.11/site-packages/stack_data/utils.py\", line 145, in cached_property_wrapper\n",
      "    value = obj.__dict__[self.func.__name__] = self.func(obj)\n",
      "                                               ^^^^^^^^^^^^^^\n",
      "  File \"/home/byshadowoz/anaconda3/lib/python3.11/site-packages/stack_data/core.py\", line 698, in lines\n",
      "    pieces = self.included_pieces\n",
      "             ^^^^^^^^^^^^^^^^^^^^\n",
      "  File \"/home/byshadowoz/anaconda3/lib/python3.11/site-packages/stack_data/utils.py\", line 145, in cached_property_wrapper\n",
      "    value = obj.__dict__[self.func.__name__] = self.func(obj)\n",
      "                                               ^^^^^^^^^^^^^^\n",
      "  File \"/home/byshadowoz/anaconda3/lib/python3.11/site-packages/stack_data/core.py\", line 649, in included_pieces\n",
      "    pos = scope_pieces.index(self.executing_piece)\n",
      "                             ^^^^^^^^^^^^^^^^^^^^\n",
      "  File \"/home/byshadowoz/anaconda3/lib/python3.11/site-packages/stack_data/utils.py\", line 145, in cached_property_wrapper\n",
      "    value = obj.__dict__[self.func.__name__] = self.func(obj)\n",
      "                                               ^^^^^^^^^^^^^^\n",
      "  File \"/home/byshadowoz/anaconda3/lib/python3.11/site-packages/stack_data/core.py\", line 628, in executing_piece\n",
      "    return only(\n",
      "           ^^^^^\n",
      "  File \"/home/byshadowoz/anaconda3/lib/python3.11/site-packages/executing/executing.py\", line 164, in only\n",
      "    raise NotOneValueFound('Expected one value, found 0')\n",
      "executing.executing.NotOneValueFound: Expected one value, found 0\n"
     ]
    }
   ],
   "source": [
    "\n",
    "\n",
    "u = ['processor', 'storage', 'brand', 'operating_system', 'ram', 'touch_screen']\n",
    "       \n",
    "        \n",
    "        \n",
    "new_laptop = Model.Laptop()\n",
    "new_laptop = new_laptop.crear_df(datos_diccionario)\n",
    "        \n",
    "processor = Model.DataFrameProcessor(new_laptop)\n",
    "        \n",
    "new_laptop = processor.create_dummies(u)\n",
    "new_laptop = processor.screen_size('screen_size')\n",
    "        \n",
    "\n",
    "        \n",
    "new_laptop = pd.concat([ejemplo_base,new_laptop])\n",
    "new_laptop.fillna(0, inplace=True)\n",
    "#M = Model.model.predict(new_laptop)\n",
    "print(new_laptop)"
   ]
  },
  {
   "cell_type": "code",
   "execution_count": null,
   "metadata": {},
   "outputs": [
    {
     "name": "stdout",
     "output_type": "stream",
     "text": [
      " * Serving Flask app '__main__'\n",
      " * Debug mode: off\n"
     ]
    },
    {
     "name": "stderr",
     "output_type": "stream",
     "text": [
      "WARNING: This is a development server. Do not use it in a production deployment. Use a production WSGI server instead.\n",
      " * Running on http://127.0.0.1:8080\n",
      "Press CTRL+C to quit\n",
      "127.0.0.1 - - [01/Mar/2024 12:18:45] \"POST /laptops HTTP/1.1\" 500 -\n"
     ]
    },
    {
     "name": "stdout",
     "output_type": "stream",
     "text": [
      "   processor_Core i3  storage_1024 GB  brand_HP  \\\n",
      "0                  1                1         1   \n",
      "\n",
      "   operating_system_Windows 10 Pro  RAM_16 GB  touch_screen_No  <30cm  <35cm  \\\n",
      "0                                1          1                1      0      0   \n",
      "\n",
      "   <40cm  >40cm  \n",
      "0      0      1  \n"
     ]
    }
   ],
   "source": [
    "app = Flask(__name__)\n",
    "\n",
    "u = ['processor', 'storage', 'brand', 'operating_system', 'RAM', 'touch_screen']\n",
    "\n",
    "@app.route('/laptops', methods=['POST'])\n",
    "\n",
    "\n",
    "\n",
    "\n",
    "def laptops_data():\n",
    "    try:\n",
    "        data = request.get_json()\n",
    "        if not data:\n",
    "            return jsonify({'error': 'Datos no válidos'}), 400\n",
    "        \n",
    "        \n",
    "        \n",
    "        \n",
    "        \n",
    "        new_laptop = Model.Laptop()\n",
    "        new_laptop = new_laptop.crear_df(data)\n",
    "        \n",
    "        processor = Model.DataFrameProcessor(new_laptop)\n",
    "        \n",
    "        new_laptop = processor.create_dummies(u)\n",
    "        new_laptop = processor.screen_size('screen_size')\n",
    "        \n",
    "        print(new_laptop)\n",
    "        \n",
    "        new_laptop = pd.concat([base,new_laptop])\n",
    "        M = Model.model.predict(new_laptop)\n",
    "        \n",
    "        print(M)\n",
    "\n",
    "\n",
    "        return jsonify({'mensaje': 'Solicitud recibida'}), 200\n",
    "    except Exception as e:\n",
    "        return jsonify({'error': str(e)}), 500\n",
    "\n",
    "if __name__ == '__main__':\n",
    "    app.run(port=8080)\n",
    "    app.run(use_reloader=False)"
   ]
  },
  {
   "cell_type": "code",
   "execution_count": null,
   "metadata": {},
   "outputs": [],
   "source": []
  },
  {
   "cell_type": "code",
   "execution_count": null,
   "metadata": {},
   "outputs": [],
   "source": []
  }
 ],
 "metadata": {
  "kernelspec": {
   "display_name": "Python 3",
   "language": "python",
   "name": "python3"
  },
  "language_info": {
   "codemirror_mode": {
    "name": "ipython",
    "version": 3
   },
   "file_extension": ".py",
   "mimetype": "text/x-python",
   "name": "python",
   "nbconvert_exporter": "python",
   "pygments_lexer": "ipython3",
   "version": "3.11.5"
  }
 },
 "nbformat": 4,
 "nbformat_minor": 2
}

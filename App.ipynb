{
 "cells": [
  {
   "cell_type": "code",
   "execution_count": 1,
   "metadata": {},
   "outputs": [
    {
     "name": "stdout",
     "output_type": "stream",
     "text": [
      "Requirement already satisfied: importnb in /home/byshadowoz/anaconda3/lib/python3.11/site-packages (2023.11.1)\n",
      "Note: you may need to restart the kernel to use updated packages.\n"
     ]
    }
   ],
   "source": [
    "%pip install importnb"
   ]
  },
  {
   "cell_type": "code",
   "execution_count": 2,
   "metadata": {},
   "outputs": [
    {
     "name": "stdout",
     "output_type": "stream",
     "text": [
      "<class 'pandas.core.frame.DataFrame'>\n",
      "Index: 837 entries, 0 to 836\n",
      "Data columns (total 9 columns):\n",
      " #   Column            Non-Null Count  Dtype  \n",
      "---  ------            --------------  -----  \n",
      " 0   brand             837 non-null    object \n",
      " 1   Model Name        837 non-null    object \n",
      " 2   processor         837 non-null    object \n",
      " 3   operating_system  837 non-null    object \n",
      " 4   storage(GB)       825 non-null    object \n",
      " 5   ram(GB)           837 non-null    object \n",
      " 6   Screen Size       837 non-null    object \n",
      " 7   touch_screen      837 non-null    object \n",
      " 8   Price             837 non-null    float64\n",
      "dtypes: float64(1), object(8)\n",
      "memory usage: 65.4+ KB\n",
      "<class 'pandas.core.frame.DataFrame'>\n",
      "Index: 825 entries, 0 to 836\n",
      "Data columns (total 71 columns):\n",
      " #   Column                            Non-Null Count  Dtype  \n",
      "---  ------                            --------------  -----  \n",
      " 0   storage(GB)                       825 non-null    float64\n",
      " 1   ram(GB)                           825 non-null    float64\n",
      " 2   Price                             825 non-null    float64\n",
      " 3   <30cm                             825 non-null    int64  \n",
      " 4   <35cm                             825 non-null    int64  \n",
      " 5   <40cm                             825 non-null    int64  \n",
      " 6   >40cm                             825 non-null    int64  \n",
      " 7   processor_Athlon Dual Core        825 non-null    int64  \n",
      " 8   processor_Celeron Dual Core       825 non-null    int64  \n",
      " 9   processor_Celeron Quad Core       825 non-null    int64  \n",
      " 10  processor_Core i3                 825 non-null    int64  \n",
      " 11  processor_Core i5                 825 non-null    int64  \n",
      " 12  processor_Core i7                 825 non-null    int64  \n",
      " 13  processor_Core i9                 825 non-null    int64  \n",
      " 14  processor_M1                      825 non-null    int64  \n",
      " 15  processor_M1 Max                  825 non-null    int64  \n",
      " 16  processor_M1 Pro                  825 non-null    int64  \n",
      " 17  processor_M2                      825 non-null    int64  \n",
      " 18  processor_M2 Max                  825 non-null    int64  \n",
      " 19  processor_M3 Pro                  825 non-null    int64  \n",
      " 20  processor_MediaTek Kompanio 1200  825 non-null    int64  \n",
      " 21  processor_MediaTek Kompanio 500   825 non-null    int64  \n",
      " 22  processor_MediaTek Kompanio 520   825 non-null    int64  \n",
      " 23  processor_MediaTek MT8788         825 non-null    int64  \n",
      " 24  processor_Pentium Silver          825 non-null    int64  \n",
      " 25  processor_Ryzen 3 Dual Core       825 non-null    int64  \n",
      " 26  processor_Ryzen 3 Quad Core       825 non-null    int64  \n",
      " 27  processor_Ryzen 5                 825 non-null    int64  \n",
      " 28  processor_Ryzen 5 Dual Core       825 non-null    int64  \n",
      " 29  processor_Ryzen 5 Hexa Core       825 non-null    int64  \n",
      " 30  processor_Ryzen 5 Quad Core       825 non-null    int64  \n",
      " 31  processor_Ryzen 7 Octa Core       825 non-null    int64  \n",
      " 32  processor_Ryzen 7 Quad Core       825 non-null    int64  \n",
      " 33  processor_Ryzen 9 16 Core         825 non-null    int64  \n",
      " 34  processor_Ryzen 9 Octa Core       825 non-null    int64  \n",
      " 35  processor_Ryzen Z1 HexaCore       825 non-null    int64  \n",
      " 36  processor_Ryzen Z1 Octa Core      825 non-null    int64  \n",
      " 37  brand_ASUS                        825 non-null    int64  \n",
      " 38  brand_Acer                        825 non-null    int64  \n",
      " 39  brand_Apple                       825 non-null    int64  \n",
      " 40  brand_CHUWI                       825 non-null    int64  \n",
      " 41  brand_DELL                        825 non-null    int64  \n",
      " 42  brand_GIGABYTE                    825 non-null    int64  \n",
      " 43  brand_HP                          825 non-null    int64  \n",
      " 44  brand_Infinix                     825 non-null    int64  \n",
      " 45  brand_LG                          825 non-null    int64  \n",
      " 46  brand_Lenovo                      825 non-null    int64  \n",
      " 47  brand_MICROSOFT                   825 non-null    int64  \n",
      " 48  brand_MSI                         825 non-null    int64  \n",
      " 49  brand_Primebook                   825 non-null    int64  \n",
      " 50  brand_SAMSUNG                     825 non-null    int64  \n",
      " 51  brand_Ultimus                     825 non-null    int64  \n",
      " 52  brand_WINGS                       825 non-null    int64  \n",
      " 53  brand_ZEBRONICS                   825 non-null    int64  \n",
      " 54  brand_realme                      825 non-null    int64  \n",
      " 55  operating_system_Chrome           825 non-null    int64  \n",
      " 56  operating_system_DOS              825 non-null    int64  \n",
      " 57  operating_system_Mac OS Big Sur   825 non-null    int64  \n",
      " 58  operating_system_Mac OS Mojave    825 non-null    int64  \n",
      " 59  operating_system_Mac OS Monterey  825 non-null    int64  \n",
      " 60  operating_system_Prime OS         825 non-null    int64  \n",
      " 61  operating_system_Ubuntu           825 non-null    int64  \n",
      " 62  operating_system_Windows 10       825 non-null    int64  \n",
      " 63  operating_system_Windows 10 Home  825 non-null    int64  \n",
      " 64  operating_system_Windows 10 Pro   825 non-null    int64  \n",
      " 65  operating_system_Windows 11 Home  825 non-null    int64  \n",
      " 66  operating_system_Windows 11 Pro   825 non-null    int64  \n",
      " 67  operating_system_macOS Sonoma     825 non-null    int64  \n",
      " 68  operating_system_macOS Ventura    825 non-null    int64  \n",
      " 69  touch_screen_No                   825 non-null    int64  \n",
      " 70  touch_screen_Yes                  825 non-null    int64  \n",
      "dtypes: float64(3), int64(68)\n",
      "memory usage: 464.1 KB\n",
      "Error cuadrático medio: 56893.63141884551\n"
     ]
    }
   ],
   "source": [
    "from flask import Flask, request, jsonify\n",
    "import pandas as pd\n",
    "#install nbimporter\n",
    "from importnb import Notebook\n",
    "with Notebook(): \n",
    "    import Model\n",
    "\n"
   ]
  },
  {
   "cell_type": "code",
   "execution_count": 3,
   "metadata": {},
   "outputs": [],
   "source": [
    "df = pd.read_csv('base.csv')\n",
    "ejemplo_base = df.drop(df.index[0:837])\n",
    "ejemplo_base = ejemplo_base.drop(columns='Price')"
   ]
  },
  {
   "cell_type": "code",
   "execution_count": 4,
   "metadata": {},
   "outputs": [
    {
     "name": "stdout",
     "output_type": "stream",
     "text": [
      " * Serving Flask app '__main__'\n",
      " * Debug mode: off\n"
     ]
    },
    {
     "name": "stderr",
     "output_type": "stream",
     "text": [
      "WARNING: This is a development server. Do not use it in a production deployment. Use a production WSGI server instead.\n",
      " * Running on http://127.0.0.1:8080\n",
      "Press CTRL+C to quit\n",
      "127.0.0.1 - - [02/Mar/2024 23:35:40] \"POST /laptops HTTP/1.1\" 200 -\n"
     ]
    },
    {
     "name": "stdout",
     "output_type": "stream",
     "text": [
      "   storage(GB)  ram(GB)  processor_Core i5  brand_HP  \\\n",
      "0          512       16                  1         1   \n",
      "\n",
      "   operating_system_Windows 11 Pro  touch_screen_Yes  <30cm  <35cm  <40cm  \\\n",
      "0                                1                 1      0      0      1   \n",
      "\n",
      "   >40cm  \n",
      "0      0  \n",
      "[892.39835053]\n"
     ]
    },
    {
     "name": "stderr",
     "output_type": "stream",
     "text": [
      "127.0.0.1 - - [02/Mar/2024 23:36:17] \"POST /laptops HTTP/1.1\" 200 -\n"
     ]
    },
    {
     "name": "stdout",
     "output_type": "stream",
     "text": [
      "   storage(GB)  ram(GB)  processor_Core i5  brand_HP  \\\n",
      "0          516       16                  1         1   \n",
      "\n",
      "   operating_system_Windows 11 Pro  touch_screen_Yes  <30cm  <35cm  <40cm  \\\n",
      "0                                1                 1      0      0      1   \n",
      "\n",
      "   >40cm  \n",
      "0      0  \n",
      "[892.73903446]\n"
     ]
    },
    {
     "name": "stderr",
     "output_type": "stream",
     "text": [
      "127.0.0.1 - - [02/Mar/2024 23:36:39] \"POST /laptops HTTP/1.1\" 200 -\n"
     ]
    },
    {
     "name": "stdout",
     "output_type": "stream",
     "text": [
      "   storage(GB)  ram(GB)  processor_Core i5  brand_HP  \\\n",
      "0         4000      128                  1         1   \n",
      "\n",
      "   operating_system_Windows 11 Pro  touch_screen_Yes  <30cm  <35cm  <40cm  \\\n",
      "0                                1                 1      0      0      1   \n",
      "\n",
      "   >40cm  \n",
      "0      0  \n",
      "[4265.72943765]\n"
     ]
    },
    {
     "name": "stderr",
     "output_type": "stream",
     "text": [
      "127.0.0.1 - - [02/Mar/2024 23:37:03] \"POST /laptops HTTP/1.1\" 200 -\n"
     ]
    },
    {
     "name": "stdout",
     "output_type": "stream",
     "text": [
      "   storage(GB)  ram(GB)  processor_Core i5  brand_HP  \\\n",
      "0         4000      128                  1         1   \n",
      "\n",
      "   operating_system_Windows 11 Pro  touch_screen_No  <30cm  <35cm  <40cm  \\\n",
      "0                                1                1      0      0      1   \n",
      "\n",
      "   >40cm  \n",
      "0      0  \n",
      "[4183.39962261]\n"
     ]
    }
   ],
   "source": [
    "app = Flask(__name__)\n",
    "\n",
    "u = ['processor', 'brand', 'operating_system', 'touch_screen']\n",
    "\n",
    "df = pd.read_csv('base.csv')\n",
    "ejemplo_base = df.drop(df.index[0:837])\n",
    "ejemplo_base = ejemplo_base.drop(columns='Price')\n",
    "\n",
    "\n",
    "@app.route('/laptops', methods=['POST'])\n",
    "\n",
    "\n",
    "\n",
    "\n",
    "def laptops_data():\n",
    "    try:\n",
    "        data = request.get_json()\n",
    "        if not data:\n",
    "            return jsonify({'error': 'Datos no válidos'}), 400\n",
    "        \n",
    "        \n",
    "        \n",
    "        \n",
    "        \n",
    "        new_laptop = Model.Laptop()\n",
    "        new_laptop = new_laptop.crear_df(data)\n",
    "        \n",
    "        processor = Model.DataFrameProcessor(new_laptop)\n",
    "        \n",
    "        new_laptop = processor.create_dummies(u)\n",
    "        new_laptop = processor.screen_size('screen_size')\n",
    "        \n",
    "        print(new_laptop)\n",
    "        \n",
    "        new_laptop = pd.concat([ejemplo_base,new_laptop])\n",
    "        new_laptop.fillna(0, inplace=True)\n",
    "        M = Model.model.predict(new_laptop)\n",
    "        \n",
    "        print(M)\n",
    "        \n",
    "        M_list = M.tolist()\n",
    "        \n",
    "        return jsonify({'mensaje': 'Solicitud recibida', 'Prediccion': M_list}), 200\n",
    "    except Exception as e:\n",
    "        return jsonify({'error': str(e)}), 500\n",
    "\n",
    "if __name__ == '__main__':\n",
    "    app.run(port=8080)\n",
    "    app.run(use_reloader=False)"
   ]
  },
  {
   "cell_type": "code",
   "execution_count": null,
   "metadata": {},
   "outputs": [],
   "source": []
  },
  {
   "cell_type": "code",
   "execution_count": null,
   "metadata": {},
   "outputs": [],
   "source": []
  }
 ],
 "metadata": {
  "kernelspec": {
   "display_name": "Python 3",
   "language": "python",
   "name": "python3"
  },
  "language_info": {
   "codemirror_mode": {
    "name": "ipython",
    "version": 3
   },
   "file_extension": ".py",
   "mimetype": "text/x-python",
   "name": "python",
   "nbconvert_exporter": "python",
   "pygments_lexer": "ipython3",
   "version": "3.11.5"
  }
 },
 "nbformat": 4,
 "nbformat_minor": 2
}

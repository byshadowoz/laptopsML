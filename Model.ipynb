{
 "cells": [
  {
   "cell_type": "markdown",
   "metadata": {},
   "source": [
    "# IMPORT LIBRARIES"
   ]
  },
  {
   "cell_type": "code",
   "execution_count": 1,
   "metadata": {},
   "outputs": [],
   "source": [
    "import pandas as pd\n",
    "import numpy as np\n",
    "import matplotlib.pyplot as plt\n",
    "import seaborn as sns \n",
    "import sklearn\n",
    "from sklearn.model_selection import train_test_split\n",
    "from sklearn.linear_model import LinearRegression\n",
    "from sklearn import metrics\n"
   ]
  },
  {
   "cell_type": "markdown",
   "metadata": {},
   "source": [
    "# OBTAIN & CLEAN DATA"
   ]
  },
  {
   "cell_type": "code",
   "execution_count": 2,
   "metadata": {},
   "outputs": [
    {
     "data": {
      "text/html": [
       "<div>\n",
       "<style scoped>\n",
       "    .dataframe tbody tr th:only-of-type {\n",
       "        vertical-align: middle;\n",
       "    }\n",
       "\n",
       "    .dataframe tbody tr th {\n",
       "        vertical-align: top;\n",
       "    }\n",
       "\n",
       "    .dataframe thead th {\n",
       "        text-align: right;\n",
       "    }\n",
       "</style>\n",
       "<table border=\"1\" class=\"dataframe\">\n",
       "  <thead>\n",
       "    <tr style=\"text-align: right;\">\n",
       "      <th></th>\n",
       "      <th>Brand</th>\n",
       "      <th>Model Name</th>\n",
       "      <th>Processor</th>\n",
       "      <th>Operating System</th>\n",
       "      <th>Storage</th>\n",
       "      <th>RAM</th>\n",
       "      <th>Screen Size</th>\n",
       "      <th>Touch_Screen</th>\n",
       "      <th>Price</th>\n",
       "    </tr>\n",
       "  </thead>\n",
       "  <tbody>\n",
       "    <tr>\n",
       "      <th>0</th>\n",
       "      <td>HP</td>\n",
       "      <td>15s-fq5007TU</td>\n",
       "      <td>Core i3</td>\n",
       "      <td>Windows 11 Home</td>\n",
       "      <td>512 GB</td>\n",
       "      <td>8 GB</td>\n",
       "      <td>39.62 cm (15.6 Inch)</td>\n",
       "      <td>No</td>\n",
       "      <td>₹38,990</td>\n",
       "    </tr>\n",
       "    <tr>\n",
       "      <th>1</th>\n",
       "      <td>HP</td>\n",
       "      <td>15s-fy5003TU</td>\n",
       "      <td>Core i3</td>\n",
       "      <td>Windows 11 Home</td>\n",
       "      <td>512 GB</td>\n",
       "      <td>8 GB</td>\n",
       "      <td>39.62 cm (15.6 Inch)</td>\n",
       "      <td>No</td>\n",
       "      <td>₹37,990</td>\n",
       "    </tr>\n",
       "  </tbody>\n",
       "</table>\n",
       "</div>"
      ],
      "text/plain": [
       "  Brand    Model Name Processor Operating System Storage   RAM  \\\n",
       "0    HP  15s-fq5007TU   Core i3  Windows 11 Home  512 GB  8 GB   \n",
       "1    HP  15s-fy5003TU   Core i3  Windows 11 Home  512 GB  8 GB   \n",
       "\n",
       "            Screen Size Touch_Screen    Price  \n",
       "0  39.62 cm (15.6 Inch)           No  ₹38,990  \n",
       "1  39.62 cm (15.6 Inch)           No  ₹37,990  "
      ]
     },
     "execution_count": 2,
     "metadata": {},
     "output_type": "execute_result"
    }
   ],
   "source": [
    "df = pd.read_csv('Laptops.csv', index_col=0)\n",
    "df.head(2)"
   ]
  },
  {
   "cell_type": "markdown",
   "metadata": {},
   "source": [
    "## rename df"
   ]
  },
  {
   "cell_type": "code",
   "execution_count": 3,
   "metadata": {},
   "outputs": [
    {
     "data": {
      "text/plain": [
       "Index(['brand', 'Model Name', 'processor', 'operating_system', 'storage',\n",
       "       'ram', 'Screen Size', 'touch_screen', 'Price'],\n",
       "      dtype='object')"
      ]
     },
     "execution_count": 3,
     "metadata": {},
     "output_type": "execute_result"
    }
   ],
   "source": [
    "df = df.rename(columns={'Processor':'processor', 'Storage':'storage', 'Brand':'brand', 'Operating System':'operating_system', 'RAM':'ram', 'Touch_Screen':'touch_screen'})\n",
    "df.columns"
   ]
  },
  {
   "cell_type": "code",
   "execution_count": 4,
   "metadata": {},
   "outputs": [
    {
     "name": "stdout",
     "output_type": "stream",
     "text": [
      "<class 'pandas.core.frame.DataFrame'>\n",
      "Index: 837 entries, 0 to 836\n",
      "Data columns (total 9 columns):\n",
      " #   Column            Non-Null Count  Dtype \n",
      "---  ------            --------------  ----- \n",
      " 0   brand             837 non-null    object\n",
      " 1   Model Name        837 non-null    object\n",
      " 2   processor         837 non-null    object\n",
      " 3   operating_system  837 non-null    object\n",
      " 4   storage           825 non-null    object\n",
      " 5   ram               837 non-null    object\n",
      " 6   Screen Size       837 non-null    object\n",
      " 7   touch_screen      837 non-null    object\n",
      " 8   Price             837 non-null    object\n",
      "dtypes: object(9)\n",
      "memory usage: 65.4+ KB\n"
     ]
    }
   ],
   "source": [
    "df.info()"
   ]
  },
  {
   "cell_type": "markdown",
   "metadata": {},
   "source": [
    "## Remove Columns that's not important to the ML"
   ]
  },
  {
   "cell_type": "code",
   "execution_count": 5,
   "metadata": {},
   "outputs": [],
   "source": [
    "df.drop(columns=['Model Name'], inplace=True)"
   ]
  },
  {
   "cell_type": "markdown",
   "metadata": {},
   "source": [
    "## CLASS Processor Data"
   ]
  },
  {
   "cell_type": "code",
   "execution_count": 6,
   "metadata": {},
   "outputs": [],
   "source": [
    "class DataFrameProcessor:\n",
    "    def __init__(self, df):\n",
    "        self.df = df\n",
    "\n",
    "    def create_dummies(self, columns):\n",
    "        for column in columns:\n",
    "            column_lower = column.lower()\n",
    "            dummies = pd.get_dummies(self.df[column], prefix=column_lower).astype(int)\n",
    "            self.df = pd.concat([self.df, dummies], axis=1)\n",
    "            self.df = self.df.drop(column, axis=1)\n",
    "        return self.df\n",
    "\n",
    "    def screen_size(self, column):\n",
    "        self.df['screen_size(cm)'] = self.df[column].str.split(' ', expand=True)[0].astype(float)\n",
    "        self.df['<30cm'] = (self.df['screen_size(cm)'] < 30).astype(int)\n",
    "        self.df['<35cm'] = ((self.df['screen_size(cm)'] >= 30) & (self.df['screen_size(cm)'] < 35)).astype(int)\n",
    "        self.df['<40cm'] = ((self.df['screen_size(cm)'] >= 35) & (self.df['screen_size(cm)'] < 40)).astype(int)\n",
    "        self.df['>40cm'] = (self.df['screen_size(cm)'] >= 40).astype(int)\n",
    "        self.df.drop(columns=[column,'screen_size(cm)'], inplace=True)\n",
    "        return self.df"
   ]
  },
  {
   "cell_type": "code",
   "execution_count": 7,
   "metadata": {},
   "outputs": [],
   "source": [
    "processor = DataFrameProcessor(df)\n",
    "df = processor.screen_size('Screen Size')\n",
    "df = processor.create_dummies(['processor', 'storage', 'brand', 'operating_system', 'ram', 'touch_screen'])"
   ]
  },
  {
   "cell_type": "code",
   "execution_count": null,
   "metadata": {},
   "outputs": [],
   "source": []
  },
  {
   "cell_type": "code",
   "execution_count": 18,
   "metadata": {},
   "outputs": [
    {
     "ename": "SyntaxError",
     "evalue": "cannot assign to literal (3936715353.py, line 3)",
     "output_type": "error",
     "traceback": [
      "\u001b[0;36m  Cell \u001b[0;32mIn[18], line 3\u001b[0;36m\u001b[0m\n\u001b[0;31m    ['Price'] = df['Price'].str.replace('₹', '')\u001b[0m\n\u001b[0m     ^\u001b[0m\n\u001b[0;31mSyntaxError\u001b[0m\u001b[0;31m:\u001b[0m cannot assign to literal\n"
     ]
    }
   ],
   "source": [
    "#convert object to float \n",
    "\n",
    "df['Price'] = df['Price'].str.replace('₹', '')\n",
    "df['Price'] = df['Price'].str.replace(',', '').astype(float)"
   ]
  },
  {
   "cell_type": "code",
   "execution_count": 9,
   "metadata": {},
   "outputs": [],
   "source": [
    "# convert Price in Indian Rupees to USD \n",
    "df.Price = df.Price * 0.012"
   ]
  },
  {
   "cell_type": "markdown",
   "metadata": {},
   "source": [
    "# Create Model ML"
   ]
  },
  {
   "cell_type": "code",
   "execution_count": 10,
   "metadata": {},
   "outputs": [
    {
     "name": "stdout",
     "output_type": "stream",
     "text": [
      "Error cuadrático medio: 2.4314594035169313e+29\n"
     ]
    }
   ],
   "source": [
    "X = df.drop('Price', axis=1)\n",
    "y = df['Price']\n",
    "\n",
    "X_train, X_test, y_train, y_test = train_test_split(X, y, test_size=0.2, random_state=42)\n",
    "\n",
    "model = LinearRegression()\n",
    "\n",
    "model.fit(X_train, y_train)\n",
    "\n",
    "y_pred = model.predict(X_test)\n",
    "\n",
    "mse = metrics.mean_squared_error(y_test, y_pred)\n",
    "\n",
    "print(f'Error cuadrático medio: {mse}')"
   ]
  },
  {
   "cell_type": "code",
   "execution_count": 17,
   "metadata": {},
   "outputs": [],
   "source": [
    "data = {'pred': y_pred, 'real': y_test}\n",
    "df_pred = pd.DataFrame(data)"
   ]
  },
  {
   "cell_type": "markdown",
   "metadata": {},
   "source": [
    "# Create DataFrame New"
   ]
  },
  {
   "cell_type": "code",
   "execution_count": 14,
   "metadata": {},
   "outputs": [],
   "source": [
    "class Laptop:\n",
    "    def __init__(self):\n",
    "        self.data = {\n",
    "            'brand': None,\n",
    "            'processor': None,\n",
    "            'operating_system': None,\n",
    "            'storage': None,\n",
    "            'ram': None,\n",
    "            'screen_size': None,\n",
    "            'touch_screen': None,\n",
    "        }\n",
    "\n",
    "    def crear_df(self, request_data):\n",
    "        nuevo_df = {\n",
    "        \"brand\": request_data[\"brand\"],\n",
    "        \"processor\": request_data[\"processor\"],\n",
    "        \"operating_system\": request_data[\"operating_system\"],\n",
    "        \"storage\": request_data[\"storage\"],\n",
    "        \"ram\": request_data[\"ram\"],\n",
    "        \"screen_size\": request_data[\"screen_size\"],\n",
    "        \"touch_screen\": request_data[\"touch_screen\"]\n",
    "        }\n",
    "        nuevo_df = {k: [v] for k, v in nuevo_df.items()} \n",
    "\n",
    "        return pd.DataFrame(nuevo_df)\n",
    "    \n",
    "    def display_data(self):\n",
    "        laptop = Laptop()\n",
    "        laptop.set_data_from_api(api_data)\n",
    "        laptop.display_data()\n",
    "        \n",
    "        print(\"Datos del portátil:\")\n",
    "        for key, value in self.data.items():\n",
    "            print(f\"{key}: {value}\")\n"
   ]
  },
  {
   "cell_type": "code",
   "execution_count": null,
   "metadata": {},
   "outputs": [],
   "source": []
  },
  {
   "cell_type": "code",
   "execution_count": null,
   "metadata": {},
   "outputs": [],
   "source": []
  },
  {
   "cell_type": "code",
   "execution_count": null,
   "metadata": {},
   "outputs": [],
   "source": []
  },
  {
   "cell_type": "code",
   "execution_count": null,
   "metadata": {},
   "outputs": [],
   "source": []
  }
 ],
 "metadata": {
  "kernelspec": {
   "display_name": "base",
   "language": "python",
   "name": "python3"
  },
  "language_info": {
   "codemirror_mode": {
    "name": "ipython",
    "version": 3
   },
   "file_extension": ".py",
   "mimetype": "text/x-python",
   "name": "python",
   "nbconvert_exporter": "python",
   "pygments_lexer": "ipython3",
   "version": "3.11.5"
  }
 },
 "nbformat": 4,
 "nbformat_minor": 2
}
